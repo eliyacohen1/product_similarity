{
 "cells": [
  {
   "cell_type": "markdown",
   "metadata": {},
   "source": [
    "# Products Matching"
   ]
  },
  {
   "cell_type": "markdown",
   "metadata": {},
   "source": [
    "### There is three main issues:\n",
    "1. Find the most k importent chars for every product (for our case k is 50) and build a query for sreach in alibaba website\n",
    "2. Measure the similarity between amazon product and the results we get from the query\n",
    "3. Decide for threshold that point for matching products"
   ]
  },
  {
   "cell_type": "markdown",
   "metadata": {},
   "source": [
    "For the first point i use the df-idf algorithem for every product title. <br>\n",
    "With this algorithm we can understand the most importent words from every title and build a good query that represent this product"
   ]
  },
  {
   "cell_type": "code",
   "execution_count": 1,
   "metadata": {},
   "outputs": [
    {
     "name": "stderr",
     "output_type": "stream",
     "text": [
      "C:\\Users\\Latitude e7470\\Anaconda3\\lib\\site-packages\\pandas\\compat\\_optional.py:138: UserWarning: Pandas requires version '2.7.0' or newer of 'numexpr' (version '2.6.9' currently installed).\n",
      "  warnings.warn(msg, UserWarning)\n"
     ]
    }
   ],
   "source": [
    "import json\n",
    "import os\n",
    "import numpy as np\n",
    "import pandas as pd\n",
    "from tqdm import tqdm\n",
    "import matplotlib.pyplot as plt \n",
    "import time\n",
    "from typing import List\n",
    "\n",
    "%matplotlib inline "
   ]
  },
  {
   "cell_type": "code",
   "execution_count": 2,
   "metadata": {},
   "outputs": [],
   "source": [
    "#Args\n",
    "DATA_FOLDER = \"resources\"\n",
    "FILENAME = \"amazon_items.json\"\n",
    "K = 50"
   ]
  },
  {
   "cell_type": "code",
   "execution_count": 3,
   "metadata": {},
   "outputs": [],
   "source": [
    "with open(os.path.join(DATA_FOLDER, FILENAME), \"r\", encoding=\"utf8\") as f:\n",
    "    products_data = json.load(f)"
   ]
  },
  {
   "cell_type": "markdown",
   "metadata": {},
   "source": [
    "##### Build our tf-idf\n",
    "For our tf-idf we will use only the product title as document except products with title length smaller that k (then add the description for the document).<br> This because i found that some column (like description) contains words that can confuse our query.<br>\n",
    "In addition, we should delete the stop words from our documents (only for the tf-idf algo)"
   ]
  },
  {
   "cell_type": "markdown",
   "metadata": {},
   "source": [
    "Because there is some other languege (not english) in our text i also use googletrans for ranslate those products"
   ]
  },
  {
   "cell_type": "code",
   "execution_count": 4,
   "metadata": {
    "scrolled": true
   },
   "outputs": [
    {
     "data": {
      "text/plain": [
       "'4.0.0-rc.1'"
      ]
     },
     "execution_count": 4,
     "metadata": {},
     "output_type": "execute_result"
    }
   ],
   "source": [
    "# !pip install --upgrade --force-reinstall googletrans==4.0.0-rc1\n",
    "import googletrans\n",
    "googletrans.__version__"
   ]
  },
  {
   "cell_type": "markdown",
   "metadata": {},
   "source": [
    "Example for product title in 'de'"
   ]
  },
  {
   "cell_type": "code",
   "execution_count": 6,
   "metadata": {},
   "outputs": [
    {
     "name": "stdout",
     "output_type": "stream",
     "text": [
      "de\n",
      "Middle shells, white\n"
     ]
    }
   ],
   "source": [
    "from googletrans import Translator\n",
    "translator = Translator()\n",
    "print(translator.detect(\"Anzuchtschalen, weiss\").lang)\n",
    "print(translator.translate(\"Anzuchtschalen, weiss\").text)"
   ]
  },
  {
   "cell_type": "code",
   "execution_count": 7,
   "metadata": {
    "scrolled": true
   },
   "outputs": [
    {
     "name": "stderr",
     "output_type": "stream",
     "text": [
      "100%|██████████| 374/374 [08:36<00:00,  1.40s/it]\n"
     ]
    },
    {
     "data": {
      "text/html": [
       "<div>\n",
       "<style scoped>\n",
       "    .dataframe tbody tr th:only-of-type {\n",
       "        vertical-align: middle;\n",
       "    }\n",
       "\n",
       "    .dataframe tbody tr th {\n",
       "        vertical-align: top;\n",
       "    }\n",
       "\n",
       "    .dataframe thead th {\n",
       "        text-align: right;\n",
       "    }\n",
       "</style>\n",
       "<table border=\"1\" class=\"dataframe\">\n",
       "  <thead>\n",
       "    <tr style=\"text-align: right;\">\n",
       "      <th></th>\n",
       "      <th>doc_id</th>\n",
       "      <th>title</th>\n",
       "    </tr>\n",
       "  </thead>\n",
       "  <tbody>\n",
       "    <tr>\n",
       "      <th>0</th>\n",
       "      <td>B07T9K4XKN</td>\n",
       "      <td>Led Strip Lights 32.8ft, GOADROM IP65 Waterpro...</td>\n",
       "    </tr>\n",
       "    <tr>\n",
       "      <th>1</th>\n",
       "      <td>B06XG2QYX9</td>\n",
       "      <td>Wireless Security Camera with Two-way Audio - ...</td>\n",
       "    </tr>\n",
       "    <tr>\n",
       "      <th>2</th>\n",
       "      <td>B07BR3F9N6</td>\n",
       "      <td>Comgrow Creality Ender 3 3D Printer Fully Open...</td>\n",
       "    </tr>\n",
       "    <tr>\n",
       "      <th>3</th>\n",
       "      <td>B07FT8JS93</td>\n",
       "      <td>Cervical Pillow Contour Pillow for Neck and Sh...</td>\n",
       "    </tr>\n",
       "    <tr>\n",
       "      <th>4</th>\n",
       "      <td>B07S5F92V8</td>\n",
       "      <td>Sivio Weighted Blanket for Kids(5lbs, 36 x48 I...</td>\n",
       "    </tr>\n",
       "  </tbody>\n",
       "</table>\n",
       "</div>"
      ],
      "text/plain": [
       "       doc_id                                              title\n",
       "0  B07T9K4XKN  Led Strip Lights 32.8ft, GOADROM IP65 Waterpro...\n",
       "1  B06XG2QYX9  Wireless Security Camera with Two-way Audio - ...\n",
       "2  B07BR3F9N6  Comgrow Creality Ender 3 3D Printer Fully Open...\n",
       "3  B07FT8JS93  Cervical Pillow Contour Pillow for Neck and Sh...\n",
       "4  B07S5F92V8  Sivio Weighted Blanket for Kids(5lbs, 36 x48 I..."
      ]
     },
     "execution_count": 7,
     "metadata": {},
     "output_type": "execute_result"
    }
   ],
   "source": [
    "docs = []\n",
    "\n",
    "for key in tqdm(products_data.keys()):\n",
    "    time.sleep(1)\n",
    "    title = products_data[key][\"title\"]\n",
    "    if translator.detect(title).lang != 'en':\n",
    "        title = translator.translate(title).text\n",
    "    if len(title) < K:\n",
    "        title = title + translator.translate(products_data[key]['description']).text\n",
    "    docs.append({\"doc_id\": key, \"title\": title})\n",
    "df_docs = pd.DataFrame(docs)\n",
    "df_docs.head()"
   ]
  },
  {
   "cell_type": "code",
   "execution_count": 8,
   "metadata": {},
   "outputs": [],
   "source": [
    "from sklearn.feature_extraction.text import TfidfVectorizer\n",
    "import nltk\n",
    "from nltk.corpus import stopwords\n",
    "vectorizer = TfidfVectorizer(stop_words=stopwords.words('english'))\n",
    "X = vectorizer.fit_transform(df_docs.title.tolist()).toarray()\n",
    "all_words_from_documents = vectorizer.get_feature_names_out()"
   ]
  },
  {
   "cell_type": "code",
   "execution_count": 9,
   "metadata": {},
   "outputs": [
    {
     "data": {
      "text/plain": [
       "array(['00', '000', '00016a', ..., 'zitahli', 'zoom', 'zuckeo'],\n",
       "      dtype=object)"
      ]
     },
     "execution_count": 9,
     "metadata": {},
     "output_type": "execute_result"
    }
   ],
   "source": [
    "vectorizer.get_feature_names_out()"
   ]
  },
  {
   "cell_type": "markdown",
   "metadata": {},
   "source": [
    "##### Find the query for every product and create Dataframe "
   ]
  },
  {
   "cell_type": "code",
   "execution_count": 10,
   "metadata": {},
   "outputs": [],
   "source": [
    "# Lets assume that every word habe at least 2 chars\n",
    "def find_most_k_importent_char(x_vector: np.ndarray, all_words_from_documents: np.ndarray, k: int = 50):\n",
    "    num_words = k // 2\n",
    "    ind = np.argpartition(x_vector, -num_words)[-num_words:]\n",
    "    indexes = ind[np.argsort(x_vector[ind])][::-1]\n",
    "    most_significant_words = all_words_from_documents[indexes]\n",
    "    query = \"\"\n",
    "    for i, word in enumerate(most_significant_words):\n",
    "        if len(f\"{query} {word}\") <= k:\n",
    "            query += f\"{word} \"\n",
    "        else:\n",
    "            best_indexes = indexes[:i]\n",
    "            best_words = most_significant_words[:i]\n",
    "            return query[:-1]"
   ]
  },
  {
   "cell_type": "code",
   "execution_count": 11,
   "metadata": {},
   "outputs": [],
   "source": [
    "qurey_results = [find_most_k_importent_char(X[i], all_words_from_documents, K) for i, doc in enumerate(df_docs.title)]"
   ]
  },
  {
   "cell_type": "code",
   "execution_count": 12,
   "metadata": {},
   "outputs": [],
   "source": [
    "df_docs['doc_query'] = qurey_results"
   ]
  },
  {
   "cell_type": "code",
   "execution_count": 13,
   "metadata": {},
   "outputs": [
    {
     "data": {
      "text/html": [
       "<div>\n",
       "<style scoped>\n",
       "    .dataframe tbody tr th:only-of-type {\n",
       "        vertical-align: middle;\n",
       "    }\n",
       "\n",
       "    .dataframe tbody tr th {\n",
       "        vertical-align: top;\n",
       "    }\n",
       "\n",
       "    .dataframe thead th {\n",
       "        text-align: right;\n",
       "    }\n",
       "</style>\n",
       "<table border=\"1\" class=\"dataframe\">\n",
       "  <thead>\n",
       "    <tr style=\"text-align: right;\">\n",
       "      <th></th>\n",
       "      <th>doc_id</th>\n",
       "      <th>title</th>\n",
       "      <th>doc_query</th>\n",
       "    </tr>\n",
       "  </thead>\n",
       "  <tbody>\n",
       "    <tr>\n",
       "      <th>0</th>\n",
       "      <td>B07T9K4XKN</td>\n",
       "      <td>Led Strip Lights 32.8ft, GOADROM IP65 Waterpro...</td>\n",
       "      <td>lights goadrom 300 keys strips ir 44 led 8ft 12v</td>\n",
       "    </tr>\n",
       "    <tr>\n",
       "      <th>1</th>\n",
       "      <td>B06XG2QYX9</td>\n",
       "      <td>Wireless Security Camera with Two-way Audio - ...</td>\n",
       "      <td>security camera kamtron surveillance ip audio two</td>\n",
       "    </tr>\n",
       "    <tr>\n",
       "      <th>2</th>\n",
       "      <td>B07BR3F9N6</td>\n",
       "      <td>Comgrow Creality Ender 3 3D Printer Fully Open...</td>\n",
       "      <td>220x220x250mm resume ender creality fully source</td>\n",
       "    </tr>\n",
       "    <tr>\n",
       "      <th>3</th>\n",
       "      <td>B07FT8JS93</td>\n",
       "      <td>Cervical Pillow Contour Pillow for Neck and Sh...</td>\n",
       "      <td>pillow sleepers neck coisum pillowcase cervical</td>\n",
       "    </tr>\n",
       "    <tr>\n",
       "      <th>4</th>\n",
       "      <td>B07S5F92V8</td>\n",
       "      <td>Sivio Weighted Blanket for Kids(5lbs, 36 x48 I...</td>\n",
       "      <td>weighted blanket sivio 5lbs x48 36 beads toddler</td>\n",
       "    </tr>\n",
       "  </tbody>\n",
       "</table>\n",
       "</div>"
      ],
      "text/plain": [
       "       doc_id                                              title  \\\n",
       "0  B07T9K4XKN  Led Strip Lights 32.8ft, GOADROM IP65 Waterpro...   \n",
       "1  B06XG2QYX9  Wireless Security Camera with Two-way Audio - ...   \n",
       "2  B07BR3F9N6  Comgrow Creality Ender 3 3D Printer Fully Open...   \n",
       "3  B07FT8JS93  Cervical Pillow Contour Pillow for Neck and Sh...   \n",
       "4  B07S5F92V8  Sivio Weighted Blanket for Kids(5lbs, 36 x48 I...   \n",
       "\n",
       "                                           doc_query  \n",
       "0   lights goadrom 300 keys strips ir 44 led 8ft 12v  \n",
       "1  security camera kamtron surveillance ip audio two  \n",
       "2   220x220x250mm resume ender creality fully source  \n",
       "3    pillow sleepers neck coisum pillowcase cervical  \n",
       "4   weighted blanket sivio 5lbs x48 36 beads toddler  "
      ]
     },
     "execution_count": 13,
     "metadata": {},
     "output_type": "execute_result"
    }
   ],
   "source": [
    "df_docs.head()"
   ]
  },
  {
   "cell_type": "code",
   "execution_count": 14,
   "metadata": {},
   "outputs": [
    {
     "data": {
      "text/html": [
       "<div>\n",
       "<style scoped>\n",
       "    .dataframe tbody tr th:only-of-type {\n",
       "        vertical-align: middle;\n",
       "    }\n",
       "\n",
       "    .dataframe tbody tr th {\n",
       "        vertical-align: top;\n",
       "    }\n",
       "\n",
       "    .dataframe thead th {\n",
       "        text-align: right;\n",
       "    }\n",
       "</style>\n",
       "<table border=\"1\" class=\"dataframe\">\n",
       "  <thead>\n",
       "    <tr style=\"text-align: right;\">\n",
       "      <th></th>\n",
       "      <th>doc_id</th>\n",
       "      <th>title</th>\n",
       "      <th>doc_query</th>\n",
       "    </tr>\n",
       "  </thead>\n",
       "  <tbody>\n",
       "    <tr>\n",
       "      <th>140</th>\n",
       "      <td>B01LX0JBUU</td>\n",
       "      <td>Middle shells, whiteWith drain hole at bottom ...</td>\n",
       "      <td>roots cell size 10 base tray humidity seed reduce</td>\n",
       "    </tr>\n",
       "  </tbody>\n",
       "</table>\n",
       "</div>"
      ],
      "text/plain": [
       "         doc_id                                              title  \\\n",
       "140  B01LX0JBUU  Middle shells, whiteWith drain hole at bottom ...   \n",
       "\n",
       "                                             doc_query  \n",
       "140  roots cell size 10 base tray humidity seed reduce  "
      ]
     },
     "execution_count": 14,
     "metadata": {},
     "output_type": "execute_result"
    }
   ],
   "source": [
    "df_docs[df_docs.doc_id == 'B01LX0JBUU']"
   ]
  },
  {
   "cell_type": "code",
   "execution_count": 16,
   "metadata": {},
   "outputs": [],
   "source": [
    "def check_query_size(queries: List[str], k: int):\n",
    "    for q in queries:\n",
    "        assert len(q) <= k\n",
    "check_query_size(df_docs.doc_query, K)"
   ]
  },
  {
   "cell_type": "markdown",
   "metadata": {},
   "source": [
    "#### Measure the similarity between products with SentenceBert\n",
    "SentenceBert is model the trained for similarity task berween documents"
   ]
  },
  {
   "cell_type": "code",
   "execution_count": 17,
   "metadata": {},
   "outputs": [],
   "source": [
    "#!pip install sentence_transformers\n",
    "from sentence_transformers import SentenceTransformer\n",
    "model = SentenceTransformer('bert-base-nli-mean-tokens')"
   ]
  },
  {
   "cell_type": "markdown",
   "metadata": {},
   "source": [
    "Get all products that we finding with our query for each item from amazon. <br>\n",
    "Build new DataFrame with the return products from the searching"
   ]
  },
  {
   "cell_type": "code",
   "execution_count": 19,
   "metadata": {},
   "outputs": [],
   "source": [
    "from resources.alibaba_search import alibaba_get_search_result_titles\n",
    "from sklearn.metrics.pairwise import cosine_similarity"
   ]
  },
  {
   "cell_type": "code",
   "execution_count": 20,
   "metadata": {},
   "outputs": [],
   "source": [
    "def search_query(q):\n",
    "    search_result = alibaba_get_search_result_titles(q)\n",
    "    alibaba_products, alibaba_url = [], []\n",
    "    for ali_product, ali_url in search_result.values():\n",
    "        alibaba_products.append(ali_product)\n",
    "        alibaba_url.append(ali_url)\n",
    "    return alibaba_products, alibaba_url"
   ]
  },
  {
   "cell_type": "code",
   "execution_count": 22,
   "metadata": {},
   "outputs": [
    {
     "name": "stderr",
     "output_type": "stream",
     "text": [
      "100%|██████████| 374/374 [23:44<00:00,  3.81s/it]\n"
     ]
    }
   ],
   "source": [
    "search_results = {\"doc_id\": [], \"title\": [], \"doc_query\": [], \"alibaba_product\": [], \"alibaba_url\":[], \"cosine_similarity\": []}\n",
    "for doc_id, title, q in tqdm(df_docs.values):\n",
    "    alibaba_products, alibaba_url = search_query(q)\n",
    "    products_to_compare = [title] + alibaba_products\n",
    "    sentence_embeddings = model.encode(products_to_compare)\n",
    "    products_similarity = cosine_similarity([sentence_embeddings[0, :]], sentence_embeddings[1:, :])\n",
    "    search_results[\"doc_id\"] += [doc_id] * len(alibaba_products)\n",
    "    search_results[\"title\"] += [title] * len(alibaba_products)\n",
    "    search_results[\"doc_query\"] += [q] * len(alibaba_products)\n",
    "    search_results[\"alibaba_product\"] += alibaba_products\n",
    "    search_results[\"alibaba_url\"] += alibaba_url\n",
    "    search_results[\"cosine_similarity\"] += list(products_similarity[0])"
   ]
  },
  {
   "cell_type": "code",
   "execution_count": 23,
   "metadata": {},
   "outputs": [
    {
     "data": {
      "text/html": [
       "<div>\n",
       "<style scoped>\n",
       "    .dataframe tbody tr th:only-of-type {\n",
       "        vertical-align: middle;\n",
       "    }\n",
       "\n",
       "    .dataframe tbody tr th {\n",
       "        vertical-align: top;\n",
       "    }\n",
       "\n",
       "    .dataframe thead th {\n",
       "        text-align: right;\n",
       "    }\n",
       "</style>\n",
       "<table border=\"1\" class=\"dataframe\">\n",
       "  <thead>\n",
       "    <tr style=\"text-align: right;\">\n",
       "      <th></th>\n",
       "      <th>doc_id</th>\n",
       "      <th>title</th>\n",
       "      <th>doc_query</th>\n",
       "      <th>alibaba_product</th>\n",
       "      <th>alibaba_url</th>\n",
       "      <th>cosine_similarity</th>\n",
       "    </tr>\n",
       "  </thead>\n",
       "  <tbody>\n",
       "    <tr>\n",
       "      <th>0</th>\n",
       "      <td>B07T9K4XKN</td>\n",
       "      <td>Led Strip Lights 32.8ft, GOADROM IP65 Waterpro...</td>\n",
       "      <td>lights goadrom 300 keys strips ir 44 led 8ft 12v</td>\n",
       "      <td>Ir Led Light Strip Led Amazon 44Keys IR Wifi W...</td>\n",
       "      <td>//www.alibaba.com/product-detail/Ir-Led-Light-...</td>\n",
       "      <td>0.792979</td>\n",
       "    </tr>\n",
       "    <tr>\n",
       "      <th>1</th>\n",
       "      <td>B07T9K4XKN</td>\n",
       "      <td>Led Strip Lights 32.8ft, GOADROM IP65 Waterpro...</td>\n",
       "      <td>lights goadrom 300 keys strips ir 44 led 8ft 12v</td>\n",
       "      <td>Led Keys Ir Strip 12vled 5050 Rgb Led Strip LE...</td>\n",
       "      <td>//www.alibaba.com/product-detail/Led-Keys-Ir-S...</td>\n",
       "      <td>0.805444</td>\n",
       "    </tr>\n",
       "    <tr>\n",
       "      <th>2</th>\n",
       "      <td>B07T9K4XKN</td>\n",
       "      <td>Led Strip Lights 32.8ft, GOADROM IP65 Waterpro...</td>\n",
       "      <td>lights goadrom 300 keys strips ir 44 led 8ft 12v</td>\n",
       "      <td>Linkable connect IP65 LED clone Grow Light fix...</td>\n",
       "      <td>//www.alibaba.com/product-detail/Linkable-conn...</td>\n",
       "      <td>0.630047</td>\n",
       "    </tr>\n",
       "    <tr>\n",
       "      <th>3</th>\n",
       "      <td>B07T9K4XKN</td>\n",
       "      <td>Led Strip Lights 32.8ft, GOADROM IP65 Waterpro...</td>\n",
       "      <td>lights goadrom 300 keys strips ir 44 led 8ft 12v</td>\n",
       "      <td>32.8ft 5M RGB LED Strip Lights full Kit/set 50...</td>\n",
       "      <td>//www.alibaba.com/product-detail/32-8ft-5M-RGB...</td>\n",
       "      <td>0.818303</td>\n",
       "    </tr>\n",
       "    <tr>\n",
       "      <th>4</th>\n",
       "      <td>B07T9K4XKN</td>\n",
       "      <td>Led Strip Lights 32.8ft, GOADROM IP65 Waterpro...</td>\n",
       "      <td>lights goadrom 300 keys strips ir 44 led 8ft 12v</td>\n",
       "      <td>Led Strip Key Led Rgb Led Light Strip Amazon S...</td>\n",
       "      <td>//www.alibaba.com/product-detail/Led-Strip-Key...</td>\n",
       "      <td>0.688432</td>\n",
       "    </tr>\n",
       "  </tbody>\n",
       "</table>\n",
       "</div>"
      ],
      "text/plain": [
       "       doc_id                                              title  \\\n",
       "0  B07T9K4XKN  Led Strip Lights 32.8ft, GOADROM IP65 Waterpro...   \n",
       "1  B07T9K4XKN  Led Strip Lights 32.8ft, GOADROM IP65 Waterpro...   \n",
       "2  B07T9K4XKN  Led Strip Lights 32.8ft, GOADROM IP65 Waterpro...   \n",
       "3  B07T9K4XKN  Led Strip Lights 32.8ft, GOADROM IP65 Waterpro...   \n",
       "4  B07T9K4XKN  Led Strip Lights 32.8ft, GOADROM IP65 Waterpro...   \n",
       "\n",
       "                                          doc_query  \\\n",
       "0  lights goadrom 300 keys strips ir 44 led 8ft 12v   \n",
       "1  lights goadrom 300 keys strips ir 44 led 8ft 12v   \n",
       "2  lights goadrom 300 keys strips ir 44 led 8ft 12v   \n",
       "3  lights goadrom 300 keys strips ir 44 led 8ft 12v   \n",
       "4  lights goadrom 300 keys strips ir 44 led 8ft 12v   \n",
       "\n",
       "                                     alibaba_product  \\\n",
       "0  Ir Led Light Strip Led Amazon 44Keys IR Wifi W...   \n",
       "1  Led Keys Ir Strip 12vled 5050 Rgb Led Strip LE...   \n",
       "2  Linkable connect IP65 LED clone Grow Light fix...   \n",
       "3  32.8ft 5M RGB LED Strip Lights full Kit/set 50...   \n",
       "4  Led Strip Key Led Rgb Led Light Strip Amazon S...   \n",
       "\n",
       "                                         alibaba_url  cosine_similarity  \n",
       "0  //www.alibaba.com/product-detail/Ir-Led-Light-...           0.792979  \n",
       "1  //www.alibaba.com/product-detail/Led-Keys-Ir-S...           0.805444  \n",
       "2  //www.alibaba.com/product-detail/Linkable-conn...           0.630047  \n",
       "3  //www.alibaba.com/product-detail/32-8ft-5M-RGB...           0.818303  \n",
       "4  //www.alibaba.com/product-detail/Led-Strip-Key...           0.688432  "
      ]
     },
     "execution_count": 23,
     "metadata": {},
     "output_type": "execute_result"
    }
   ],
   "source": [
    "df_similarity = pd.DataFrame(search_results)\n",
    "df_similarity.head()"
   ]
  },
  {
   "cell_type": "code",
   "execution_count": 24,
   "metadata": {},
   "outputs": [
    {
     "data": {
      "text/plain": [
       "(8976, 6)"
      ]
     },
     "execution_count": 24,
     "metadata": {},
     "output_type": "execute_result"
    }
   ],
   "source": [
    "df_similarity.shape"
   ]
  },
  {
   "cell_type": "markdown",
   "metadata": {},
   "source": [
    "#### Finding the threshold\n",
    "For the threshold we can do several on things:\n",
    "1. Guess (not recommended :))\n",
    "2. Take care of labeling some of the data and try to learn from it\n",
    "3. Try to find an interesting point by visualization\n",
    "\n",
    "I try to combine point 3 and 2"
   ]
  },
  {
   "cell_type": "markdown",
   "metadata": {},
   "source": [
    "Pick 50 random products"
   ]
  },
  {
   "cell_type": "code",
   "execution_count": 74,
   "metadata": {
    "scrolled": true
   },
   "outputs": [],
   "source": [
    "random_products = np.random.choice(pd.unique(df_similarity.doc_id), 50)"
   ]
  },
  {
   "cell_type": "code",
   "execution_count": 75,
   "metadata": {},
   "outputs": [],
   "source": [
    "df_random_products = df_similarity[df_similarity.doc_id.isin(random_products)]"
   ]
  },
  {
   "cell_type": "code",
   "execution_count": 76,
   "metadata": {},
   "outputs": [
    {
     "data": {
      "image/png": "[encoded data removed]",
      "text/plain": [
       "<Figure size 1440x360 with 1 Axes>"
      ]
     },
     "metadata": {
      "needs_background": "light"
     },
     "output_type": "display_data"
    }
   ],
   "source": [
    "fig, ax = plt.subplots(figsize=(20,5))\n",
    "for d in pd.unique(df_random_products.doc_id):\n",
    "    df = df_random_products[df_random_products.doc_id == d]\n",
    "    plt.scatter(df.doc_id, df.cosine_similarity)\n",
    "_ = plt.xticks(rotation=90)"
   ]
  },
  {
   "cell_type": "markdown",
   "metadata": {},
   "source": [
    "In this picture you can find interesting distributions of the results.<br>\n",
    "You can see that there are some products that are in the lower part in terms of confidence and some in the upper part with high confidence. <br>\n",
    "If we take some products from the edges of confidence (his confidence product is below and a product whose confidence is above) we can understand where our confidence intersection point is. <br>\n",
    "In our case after check the confidence score 0.8 look promise. So i check this confidence in some product and found some conclusions:\n",
    "1. Confidence score less that 0.6 is probably not this product\n",
    "2. Confidence between 0.6 and 0.8 is probably similarity product\n",
    "3. Confidence that bigger than 0.8 is probably machong product"
   ]
  },
  {
   "cell_type": "markdown",
   "metadata": {},
   "source": [
    "Now, Lets generate the matching products from alibaba for each amazon product"
   ]
  },
  {
   "cell_type": "code",
   "execution_count": 77,
   "metadata": {},
   "outputs": [
    {
     "data": {
      "text/html": [
       "<div>\n",
       "<style scoped>\n",
       "    .dataframe tbody tr th:only-of-type {\n",
       "        vertical-align: middle;\n",
       "    }\n",
       "\n",
       "    .dataframe tbody tr th {\n",
       "        vertical-align: top;\n",
       "    }\n",
       "\n",
       "    .dataframe thead th {\n",
       "        text-align: right;\n",
       "    }\n",
       "</style>\n",
       "<table border=\"1\" class=\"dataframe\">\n",
       "  <thead>\n",
       "    <tr style=\"text-align: right;\">\n",
       "      <th></th>\n",
       "      <th>doc_id</th>\n",
       "      <th>title</th>\n",
       "      <th>doc_query</th>\n",
       "      <th>alibaba_product</th>\n",
       "      <th>alibaba_url</th>\n",
       "      <th>cosine_similarity</th>\n",
       "    </tr>\n",
       "  </thead>\n",
       "  <tbody>\n",
       "    <tr>\n",
       "      <th>5696</th>\n",
       "      <td>B00MMRFQR6</td>\n",
       "      <td>Midea WHS-87LSS1 Refrigerator, 2.4 Cubic Feet,...</td>\n",
       "      <td>whs midea 87lss1 cubic feet refrigerator steel</td>\n",
       "      <td>Smad Home Use Side by Side Door Large Capacity...</td>\n",
       "      <td>//www.alibaba.com/product-detail/Smad-Home-Use...</td>\n",
       "      <td>0.865550</td>\n",
       "    </tr>\n",
       "    <tr>\n",
       "      <th>5690</th>\n",
       "      <td>B00MMRFQR6</td>\n",
       "      <td>Midea WHS-87LSS1 Refrigerator, 2.4 Cubic Feet,...</td>\n",
       "      <td>whs midea 87lss1 cubic feet refrigerator steel</td>\n",
       "      <td>Refrigerator 100L Combi Fridge Double Door Ref...</td>\n",
       "      <td>//www.alibaba.com/product-detail/Refrigerator-...</td>\n",
       "      <td>0.839906</td>\n",
       "    </tr>\n",
       "    <tr>\n",
       "      <th>5693</th>\n",
       "      <td>B00MMRFQR6</td>\n",
       "      <td>Midea WHS-87LSS1 Refrigerator, 2.4 Cubic Feet,...</td>\n",
       "      <td>whs midea 87lss1 cubic feet refrigerator steel</td>\n",
       "      <td>18Cuft Stainless Steel No Frost Double Door Re...</td>\n",
       "      <td>//www.alibaba.com/product-detail/18Cuft-Stainl...</td>\n",
       "      <td>0.817647</td>\n",
       "    </tr>\n",
       "    <tr>\n",
       "      <th>5711</th>\n",
       "      <td>B00MMRFQR6</td>\n",
       "      <td>Midea WHS-87LSS1 Refrigerator, 2.4 Cubic Feet,...</td>\n",
       "      <td>whs midea 87lss1 cubic feet refrigerator steel</td>\n",
       "      <td>Stainless Steel 18cuft 510L Frost-free Double ...</td>\n",
       "      <td>//www.alibaba.com/product-detail/Stainless-Ste...</td>\n",
       "      <td>0.809502</td>\n",
       "    </tr>\n",
       "    <tr>\n",
       "      <th>5710</th>\n",
       "      <td>B00MMRFQR6</td>\n",
       "      <td>Midea WHS-87LSS1 Refrigerator, 2.4 Cubic Feet,...</td>\n",
       "      <td>whs midea 87lss1 cubic feet refrigerator steel</td>\n",
       "      <td>Smeta 545L No Frost Top Freezer Stainless Stee...</td>\n",
       "      <td>//www.alibaba.com/product-detail/Smeta-545L-No...</td>\n",
       "      <td>0.821940</td>\n",
       "    </tr>\n",
       "    <tr>\n",
       "      <th>...</th>\n",
       "      <td>...</td>\n",
       "      <td>...</td>\n",
       "      <td>...</td>\n",
       "      <td>...</td>\n",
       "      <td>...</td>\n",
       "      <td>...</td>\n",
       "    </tr>\n",
       "    <tr>\n",
       "      <th>2310</th>\n",
       "      <td>B081SVY2M4</td>\n",
       "      <td>Selfie Ring Light with Tripod Stand and Phone ...</td>\n",
       "      <td>steaming ring vlogging halo photography selfie</td>\n",
       "      <td>Selfie Ring Tripod Stand Phone Holder LED Circ...</td>\n",
       "      <td>//www.alibaba.com/product-detail/Selfie-Ring-T...</td>\n",
       "      <td>0.939506</td>\n",
       "    </tr>\n",
       "    <tr>\n",
       "      <th>2309</th>\n",
       "      <td>B081SVY2M4</td>\n",
       "      <td>Selfie Ring Light with Tripod Stand and Phone ...</td>\n",
       "      <td>steaming ring vlogging halo photography selfie</td>\n",
       "      <td>USAMS ZB209 New Fashion Portable Adjust Foldab...</td>\n",
       "      <td>//www.alibaba.com/product-detail/USAMS-ZB209-N...</td>\n",
       "      <td>0.834640</td>\n",
       "    </tr>\n",
       "    <tr>\n",
       "      <th>2308</th>\n",
       "      <td>B081SVY2M4</td>\n",
       "      <td>Selfie Ring Light with Tripod Stand and Phone ...</td>\n",
       "      <td>steaming ring vlogging halo photography selfie</td>\n",
       "      <td>Selfie Ring Photography Led Light With Tripod ...</td>\n",
       "      <td>//www.alibaba.com/product-detail/Selfie-Ring-P...</td>\n",
       "      <td>0.883884</td>\n",
       "    </tr>\n",
       "    <tr>\n",
       "      <th>2314</th>\n",
       "      <td>B081SVY2M4</td>\n",
       "      <td>Selfie Ring Light with Tripod Stand and Phone ...</td>\n",
       "      <td>steaming ring vlogging halo photography selfie</td>\n",
       "      <td>UBeesize 10 inch LED Ring Light with Stand and...</td>\n",
       "      <td>//www.alibaba.com/product-detail/UBeesize-10-i...</td>\n",
       "      <td>0.833414</td>\n",
       "    </tr>\n",
       "    <tr>\n",
       "      <th>2319</th>\n",
       "      <td>B081SVY2M4</td>\n",
       "      <td>Selfie Ring Light with Tripod Stand and Phone ...</td>\n",
       "      <td>steaming ring vlogging halo photography selfie</td>\n",
       "      <td>Video Lights RGB Selfie LED Ring Light Dimmabl...</td>\n",
       "      <td>//www.alibaba.com/product-detail/Video-Lights-...</td>\n",
       "      <td>0.835959</td>\n",
       "    </tr>\n",
       "  </tbody>\n",
       "</table>\n",
       "<p>2163 rows × 6 columns</p>\n",
       "</div>"
      ],
      "text/plain": [
       "          doc_id                                              title  \\\n",
       "5696  B00MMRFQR6  Midea WHS-87LSS1 Refrigerator, 2.4 Cubic Feet,...   \n",
       "5690  B00MMRFQR6  Midea WHS-87LSS1 Refrigerator, 2.4 Cubic Feet,...   \n",
       "5693  B00MMRFQR6  Midea WHS-87LSS1 Refrigerator, 2.4 Cubic Feet,...   \n",
       "5711  B00MMRFQR6  Midea WHS-87LSS1 Refrigerator, 2.4 Cubic Feet,...   \n",
       "5710  B00MMRFQR6  Midea WHS-87LSS1 Refrigerator, 2.4 Cubic Feet,...   \n",
       "...          ...                                                ...   \n",
       "2310  B081SVY2M4  Selfie Ring Light with Tripod Stand and Phone ...   \n",
       "2309  B081SVY2M4  Selfie Ring Light with Tripod Stand and Phone ...   \n",
       "2308  B081SVY2M4  Selfie Ring Light with Tripod Stand and Phone ...   \n",
       "2314  B081SVY2M4  Selfie Ring Light with Tripod Stand and Phone ...   \n",
       "2319  B081SVY2M4  Selfie Ring Light with Tripod Stand and Phone ...   \n",
       "\n",
       "                                           doc_query  \\\n",
       "5696  whs midea 87lss1 cubic feet refrigerator steel   \n",
       "5690  whs midea 87lss1 cubic feet refrigerator steel   \n",
       "5693  whs midea 87lss1 cubic feet refrigerator steel   \n",
       "5711  whs midea 87lss1 cubic feet refrigerator steel   \n",
       "5710  whs midea 87lss1 cubic feet refrigerator steel   \n",
       "...                                              ...   \n",
       "2310  steaming ring vlogging halo photography selfie   \n",
       "2309  steaming ring vlogging halo photography selfie   \n",
       "2308  steaming ring vlogging halo photography selfie   \n",
       "2314  steaming ring vlogging halo photography selfie   \n",
       "2319  steaming ring vlogging halo photography selfie   \n",
       "\n",
       "                                        alibaba_product  \\\n",
       "5696  Smad Home Use Side by Side Door Large Capacity...   \n",
       "5690  Refrigerator 100L Combi Fridge Double Door Ref...   \n",
       "5693  18Cuft Stainless Steel No Frost Double Door Re...   \n",
       "5711  Stainless Steel 18cuft 510L Frost-free Double ...   \n",
       "5710  Smeta 545L No Frost Top Freezer Stainless Stee...   \n",
       "...                                                 ...   \n",
       "2310  Selfie Ring Tripod Stand Phone Holder LED Circ...   \n",
       "2309  USAMS ZB209 New Fashion Portable Adjust Foldab...   \n",
       "2308  Selfie Ring Photography Led Light With Tripod ...   \n",
       "2314  UBeesize 10 inch LED Ring Light with Stand and...   \n",
       "2319  Video Lights RGB Selfie LED Ring Light Dimmabl...   \n",
       "\n",
       "                                            alibaba_url  cosine_similarity  \n",
       "5696  //www.alibaba.com/product-detail/Smad-Home-Use...           0.865550  \n",
       "5690  //www.alibaba.com/product-detail/Refrigerator-...           0.839906  \n",
       "5693  //www.alibaba.com/product-detail/18Cuft-Stainl...           0.817647  \n",
       "5711  //www.alibaba.com/product-detail/Stainless-Ste...           0.809502  \n",
       "5710  //www.alibaba.com/product-detail/Smeta-545L-No...           0.821940  \n",
       "...                                                 ...                ...  \n",
       "2310  //www.alibaba.com/product-detail/Selfie-Ring-T...           0.939506  \n",
       "2309  //www.alibaba.com/product-detail/USAMS-ZB209-N...           0.834640  \n",
       "2308  //www.alibaba.com/product-detail/Selfie-Ring-P...           0.883884  \n",
       "2314  //www.alibaba.com/product-detail/UBeesize-10-i...           0.833414  \n",
       "2319  //www.alibaba.com/product-detail/Video-Lights-...           0.835959  \n",
       "\n",
       "[2163 rows x 6 columns]"
      ]
     },
     "execution_count": 77,
     "metadata": {},
     "output_type": "execute_result"
    }
   ],
   "source": [
    "df_similarity[df_similarity.cosine_similarity >= 0.8].sort_values(\"doc_id\")"
   ]
  }
 ],
 "metadata": {
  "kernelspec": {
   "display_name": "Python 3",
   "language": "python",
   "name": "python3"
  }
 },
 "nbformat": 4,
 "nbformat_minor": 2
}
